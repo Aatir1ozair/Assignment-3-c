{
 "cells": [
  {
   "cell_type": "code",
   "execution_count": 4,
   "id": "47583cf8",
   "metadata": {},
   "outputs": [
    {
     "name": "stdout",
     "output_type": "stream",
     "text": [
      "Enter the string:- The quick Brow Fox\n",
      "No. of Upper case character:  12\n",
      "No. of Lower case character:  3\n",
      "\n"
     ]
    }
   ],
   "source": [
    "#Python function that accepts a string and calculate the number of upper case letters\n",
    "#and lower case letters.\n",
    "\n",
    "x=input(\"Enter the string:- \")\n",
    "def char():\n",
    "    u=0\n",
    "    l=0\n",
    "    for i in x:\n",
    "        if i>='a' and i<='z':\n",
    "            l+=1\n",
    "        if i >='A' and i<='Z':\n",
    "            u+=1\n",
    "    print(\"No. of Upper case character: \",l)\n",
    "    print(\"No. of Lower case character: \",u)\n",
    "    return \"\"\n",
    "print(char())"
   ]
  },
  {
   "cell_type": "code",
   "execution_count": null,
   "id": "044e708e",
   "metadata": {},
   "outputs": [],
   "source": []
  }
 ],
 "metadata": {
  "kernelspec": {
   "display_name": "Python 3 (ipykernel)",
   "language": "python",
   "name": "python3"
  },
  "language_info": {
   "codemirror_mode": {
    "name": "ipython",
    "version": 3
   },
   "file_extension": ".py",
   "mimetype": "text/x-python",
   "name": "python",
   "nbconvert_exporter": "python",
   "pygments_lexer": "ipython3",
   "version": "3.9.12"
  }
 },
 "nbformat": 4,
 "nbformat_minor": 5
}
